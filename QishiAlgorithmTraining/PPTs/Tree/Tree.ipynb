{
 "cells": [
  {
   "cell_type": "markdown",
   "metadata": {
    "slideshow": {
     "slide_type": "slide"
    }
   },
   "source": [
    "# Qishi - Tree\n",
    "## Young Chen\n",
    "\n",
    "<img style=\"float: left;\"  src=\"pre.PNG\"  width=\"40%\">"
   ]
  },
  {
   "cell_type": "markdown",
   "metadata": {
    "slideshow": {
     "slide_type": "slide"
    }
   },
   "source": [
    "<img style=\"float: right;\"  src=\"2.PNG\"  width=\"40%\">\n",
    "\n",
    "• Root:\tThe top node in a tree.(A)\n",
    "\n",
    "• Internal\tnode: A node with at least one child. (A,\tB,\tC,\tF)\n",
    "\n",
    "• External\tnode\t(a.k.a.\tleaf):\tA node with no children. (E,\tI,\tJ,\tK,\tG,\tH,\tD)\n",
    "\n",
    "• Ancestorsof\ta\tnode: A node reachable by repeated proceeding from child to parent.\t\n",
    "\n",
    "• Descendantof\ta\tnode: A node reachable by repeated proceeding from parent to child. Also known as subchild.\t(A\tB\tC\tD\tE\tF\tG\tH\tI\tJ\tK\t)\n",
    "\n"
   ]
  },
  {
   "cell_type": "markdown",
   "metadata": {
    "slideshow": {
     "slide_type": "subslide"
    }
   },
   "source": [
    "• Depthof\ta\tnode:The depth of a node is the number of edges from the tree's root node to the node..\tDepth(E)\t=\t2\n",
    "\n",
    "• Height:The height of a tree is the height of its root node.\tHeight\t=\t3\n",
    "\n",
    "• Sibling:\tA group of nodes with the same parent. (C and D)\n",
    "\n",
    "• Edgeof\ttree:The connection between one node and another.\n",
    "\n",
    "• Path:A sequence of nodes and edges connecting a node with a descendant."
   ]
  },
  {
   "cell_type": "markdown",
   "metadata": {
    "slideshow": {
     "slide_type": "slide"
    }
   },
   "source": [
    "#### A full binary tree (sometimes proper binary tree or 2-tree) is a tree in which every node other than the leaves has two children.\n",
    "\n",
    "#### A complete binary tree is a binary tree in which every level, except possibly the last, is completely filled, and all nodes are as far left as possible. \n",
    "\n",
    "<img style=\"float: center;\"  src=\"full.PNG\"  width=\"20%\">"
   ]
  },
  {
   "cell_type": "markdown",
   "metadata": {
    "slideshow": {
     "slide_type": "slide"
    }
   },
   "source": [
    "### Preorder Traversal:\n",
    "\n",
    "Algorithm Preorder(tree)\n",
    "   1. Visit the root.\n",
    "   2. Traverse the left subtree, i.e., call Preorder(left-subtree)\n",
    "   3. Traverse the right subtree, i.e., call Preorder(right-subtree)\n",
    "   \n",
    "<img style=\"float: center;\"  src=\"preorder.PNG\"  width=\"50%\">"
   ]
  },
  {
   "cell_type": "markdown",
   "metadata": {
    "slideshow": {
     "slide_type": "slide"
    }
   },
   "source": [
    "### Postorder Traversal:\n",
    "\n",
    "Algorithm Postorder(tree)\n",
    "   1. Traverse the left subtree, i.e., call Postorder(left-subtree)\n",
    "   2. Traverse the right subtree, i.e., call Postorder(right-subtree)\n",
    "   3. Visit the root.\n",
    "   \n",
    "<img style=\"float: right;\"  src=\"postorder.PNG\"  width=\"50%\">"
   ]
  },
  {
   "cell_type": "markdown",
   "metadata": {
    "slideshow": {
     "slide_type": "slide"
    }
   },
   "source": [
    "### Inorder Traversal:\n",
    "\n",
    "Algorithm Inorder(tree)\n",
    "   1. Traverse the left subtree, i.e., call Inorder(left-subtree)\n",
    "   2. Visit the root.\n",
    "   3. Traverse the right subtree, i.e., call Inorder(right-subtree)\n",
    "   \n",
    "<img style=\"float: right;\"  src=\"inorder.PNG\"  width=\"40%\">"
   ]
  },
  {
   "cell_type": "markdown",
   "metadata": {
    "slideshow": {
     "slide_type": "slide"
    }
   },
   "source": [
    "### binary search trees (BST)\n",
    "\n",
    "sometimes called ordered or sorted binary trees, are a particular type of container: data structures that store \"items\" (such as numbers, names etc.) in memory. They allow fast lookup, addition and removal of items, and can be used to implement either dynamic sets of items, or lookup tables that allow finding an item by its key (e.g., finding the phone number of a person by name).\n",
    "\n",
    "Binary search trees keep their keys in sorted order, so that lookup and other operations can use the principle of binary search: when looking for a key in a tree (or a place to insert a new key), they traverse the tree from root to leaf, making comparisons to keys stored in the nodes of the tree and deciding, on the basis of the comparison, to continue searching in the left or right subtrees. On average, this means that each comparison allows the operations to skip about half of the tree, so that each lookup, insertion or deletion takes time proportional to the logarithm of the number of items stored in the tree. \n",
    "\n",
    "<img style=\"float: center;\"  src=\"bst.PNG\"  width=\"10%\">"
   ]
  },
  {
   "cell_type": "markdown",
   "metadata": {
    "slideshow": {
     "slide_type": "slide"
    }
   },
   "source": [
    "<img style=\"float: center;\"  src=\"compare.PNG\"  width=\"60%\">"
   ]
  },
  {
   "cell_type": "code",
   "execution_count": 1,
   "metadata": {
    "collapsed": true,
    "slideshow": {
     "slide_type": "slide"
    }
   },
   "outputs": [],
   "source": [
    "class Node:\n",
    "    __slots__ = '_item' , '_left' , '_right'\n",
    "\n",
    "    def __init__ (self, item, left=None, right=None):\n",
    "        self._item = item\n",
    "        self._left = left\n",
    "        self._right = right"
   ]
  },
  {
   "cell_type": "code",
   "execution_count": 2,
   "metadata": {
    "collapsed": true,
    "slideshow": {
     "slide_type": "slide"
    }
   },
   "outputs": [],
   "source": [
    "class BinarySearchTree:\n",
    "    \n",
    "    def __init__ (self, root=None):\n",
    "        self._root = root\n",
    "        \n",
    "    # Get methods\n",
    "    def get(self, key):\n",
    "        return self.__get(self._root, key);\n",
    "\n",
    "    def __get(self, node, key): \n",
    "        if (node is None):\n",
    "            return None\n",
    "        if (key == node._item):\n",
    "            return node._item\n",
    "        if (key < node._item):\n",
    "            return self.__get(node._left, key)\n",
    "        else:\n",
    "            return self.__get(node._right, key)   \n",
    "    # add methods\n",
    "    def add(self, value):\n",
    "        self._root = self.__add(self._root, value)\n",
    "        \n",
    "    def __add(self, node, value): # return node \n",
    "        if (node is None):\n",
    "            return Node(value)\n",
    "        if (value == node._item):\n",
    "            pass\n",
    "        else:\n",
    "            if (value < node._item):\n",
    "                node._left = self.__add(node._left, value)\n",
    "            else:\n",
    "                node._right = self.__add(node._right, value)\n",
    "        return node \n"
   ]
  },
  {
   "cell_type": "code",
   "execution_count": null,
   "metadata": {
    "collapsed": true,
    "slideshow": {
     "slide_type": "slide"
    }
   },
   "outputs": [],
   "source": [
    "    \n",
    "    # remove methods\n",
    "    def remove(self, key):\n",
    "        self._root = self.__remove(self._root, key)\n",
    "        \n",
    "    def __remove(self, node, key):  # helper\n",
    "        if node is None:\n",
    "            return None\n",
    "        if (key < node._item):\n",
    "            node._left = self.__remove(node._left, key)\n",
    "        elif (key > node._item):\n",
    "            node._right = self.__remove(node._right, key)\n",
    "        else:\n",
    "            if (node._left is None):\n",
    "                node = node._right  # if right is None,  node = None; case 1: no child  \n",
    "                                    # if right is not None, node = node._right; case 2: one child\n",
    "            elif (node._right is None):\n",
    "                node = node._left\n",
    "            else:\n",
    "                node._item = self.__get_max(node._left)\n",
    "                node._left = self.__remove(node._left, node._item)\n",
    "                \n",
    "        return node\n",
    "    \n",
    "    # get max/min methods\n",
    "    def get_max(self):\n",
    "        return self.__get_max(self._root)\n",
    "    \n",
    "    def __get_max(self, node): \n",
    "        if (node is None):\n",
    "            return None\n",
    "        while (node._right is not None):\n",
    "            node = node._right\n",
    "        return node._item"
   ]
  },
  {
   "cell_type": "markdown",
   "metadata": {
    "slideshow": {
     "slide_type": "subslide"
    }
   },
   "source": [
    "<img style=\"float: center;\"  src=\"inorder.PNG\"  width=\"40%\">"
   ]
  },
  {
   "cell_type": "code",
   "execution_count": null,
   "metadata": {
    "collapsed": true,
    "slideshow": {
     "slide_type": "slide"
    }
   },
   "outputs": [],
   "source": [
    "# Traversal Methods  \n",
    "    def print_inorder(self):\n",
    "        self._print_inorder(self._root)\n",
    "        print('')\n",
    "\n",
    "    def _print_inorder(self, node):\n",
    "        if (node is None):\n",
    "            return\n",
    "        self._print_inorder(node._left)\n",
    "        print ('[', node._item, ']', end = \" \")\n",
    "        self._print_inorder(node._right)\n",
    "    \n",
    "    def print_preorder(self):\n",
    "        self._print_preorder(self._root)\n",
    "        print('')\n",
    "\n",
    "    def _print_preorder(self, node):\n",
    "        if (node is None):\n",
    "            return\n",
    "        print ('[', node._item, ']', end = \" \")\n",
    "        self._print_preorder(node._left)\n",
    "        self._print_preorder(node._right)    \n",
    "        \n",
    "    def print_postorder(self):\n",
    "        self._print_postorder(self._root)\n",
    "        print('')\n",
    "\n",
    "    def _print_postorder(self, node):\n",
    "        if (node is None):\n",
    "            return\n",
    "        self._print_postorder(node._left)\n",
    "        self._print_postorder(node._right)          \n",
    "        print ('[', node._item, ']', end = \" \")"
   ]
  },
  {
   "cell_type": "code",
   "execution_count": 3,
   "metadata": {
    "scrolled": true,
    "slideshow": {
     "slide_type": "slide"
    }
   },
   "outputs": [
    {
     "name": "stdout",
     "output_type": "stream",
     "text": [
      "[ 1 ] [ 2 ] [ 3 ] [ 4 ] [ 5 ] [ 6 ] [ 7 ] [ 8 ] [ 9 ] [ 10 ] [ 11 ] [ 12 ] [ 13 ] \n",
      "[ 1 ] [ 3 ] [ 2 ] [ 5 ] [ 4 ] [ 7 ] [ 10 ] [ 12 ] [ 11 ] [ 13 ] [ 9 ] [ 8 ] [ 6 ] \n",
      "[ 6 ] [ 4 ] [ 2 ] [ 1 ] [ 3 ] [ 5 ] [ 8 ] [ 7 ] [ 9 ] [ 13 ] [ 11 ] [ 10 ] [ 12 ] \n"
     ]
    }
   ],
   "source": [
    "bst = BinarySearchTree()\n",
    "numbers = [6, 4, 8, 7, 9, 2, 1, 3, 5, 13, 11, 10, 12]\n",
    "for i in numbers:\n",
    "    bst.add(i)\n",
    "bst.print_inorder()\n",
    "bst.print_postorder()\n",
    "bst.print_preorder()"
   ]
  },
  {
   "cell_type": "markdown",
   "metadata": {
    "slideshow": {
     "slide_type": "slide"
    }
   },
   "source": [
    "### Example.1 Tree Size \n",
    "\n",
    "Calculate the size of the tree."
   ]
  },
  {
   "cell_type": "code",
   "execution_count": 4,
   "metadata": {
    "collapsed": true,
    "slideshow": {
     "slide_type": "subslide"
    }
   },
   "outputs": [],
   "source": [
    "class AdvBST1(BinarySearchTree):\n",
    "    \n",
    "    def size(self):\n",
    "        return self._size(self._root)\n",
    "    \n",
    "    def _size(self, node):\n",
    "        if (not node):\n",
    "            return 0\n",
    "        return self._size(node._left) + self._size(node._right) + 1"
   ]
  },
  {
   "cell_type": "code",
   "execution_count": 5,
   "metadata": {
    "slideshow": {
     "slide_type": "subslide"
    }
   },
   "outputs": [
    {
     "name": "stdout",
     "output_type": "stream",
     "text": [
      "[ 1 ] [ 2 ] [ 3 ] [ 4 ] [ 5 ] [ 6 ] [ 7 ] [ 8 ] [ 9 ] [ 10 ] [ 11 ] [ 12 ] [ 13 ] \n"
     ]
    },
    {
     "data": {
      "text/plain": [
       "13"
      ]
     },
     "execution_count": 5,
     "metadata": {},
     "output_type": "execute_result"
    }
   ],
   "source": [
    "bst = AdvBST1()\n",
    "numbers = [6, 4, 8, 7, 9, 2, 1, 3, 5, 13, 11, 10, 12]\n",
    "for i in numbers:\n",
    "    bst.add(i)\n",
    "bst.print_inorder()\n",
    "bst.size()"
   ]
  },
  {
   "cell_type": "markdown",
   "metadata": {
    "slideshow": {
     "slide_type": "slide"
    }
   },
   "source": [
    "### Example.2 Max Depth \n",
    "\n",
    "Calculate the max depth of a tree"
   ]
  },
  {
   "cell_type": "code",
   "execution_count": 6,
   "metadata": {
    "collapsed": true,
    "slideshow": {
     "slide_type": "subslide"
    }
   },
   "outputs": [],
   "source": [
    "class AdvBST2(AdvBST1):    \n",
    "    def maxDepth(self):\n",
    "        return self._maxDepth(self._root)\n",
    "    \n",
    "    def _maxDepth(self, node):\n",
    "        if (not node):\n",
    "            return 0\n",
    "        left_depth = self._maxDepth(node._left)\n",
    "        right_depth = self._maxDepth(node._right)\n",
    "        return max(left_depth, right_depth) + 1"
   ]
  },
  {
   "cell_type": "code",
   "execution_count": 7,
   "metadata": {
    "slideshow": {
     "slide_type": "subslide"
    }
   },
   "outputs": [
    {
     "name": "stdout",
     "output_type": "stream",
     "text": [
      "[ 1 ] [ 2 ] [ 3 ] [ 4 ] [ 5 ] [ 6 ] [ 7 ] [ 8 ] [ 9 ] [ 10 ] [ 11 ] [ 12 ] [ 13 ] \n"
     ]
    },
    {
     "data": {
      "text/plain": [
       "6"
      ]
     },
     "execution_count": 7,
     "metadata": {},
     "output_type": "execute_result"
    }
   ],
   "source": [
    "bst = AdvBST2()\n",
    "numbers = [6, 4, 8, 7, 9, 2, 1, 3, 5, 13, 11, 10, 12]\n",
    "for i in numbers:\n",
    "    bst.add(i)\n",
    "bst.print_inorder()\n",
    "bst.maxDepth()"
   ]
  },
  {
   "cell_type": "markdown",
   "metadata": {
    "slideshow": {
     "slide_type": "slide"
    }
   },
   "source": [
    "### Example.3. Is Balance Tree"
   ]
  },
  {
   "cell_type": "code",
   "execution_count": 8,
   "metadata": {
    "collapsed": true,
    "slideshow": {
     "slide_type": "subslide"
    }
   },
   "outputs": [],
   "source": [
    "class AdvBST3(AdvBST2):    \n",
    "    def minDepth(self):\n",
    "        return self._minDepth(self._root)\n",
    "    \n",
    "    def _minDepth(self, node):\n",
    "        if (not node):\n",
    "            return 0\n",
    "        left_depth = self._minDepth(node._left)\n",
    "        right_depth = self._minDepth(node._right)\n",
    "        return min(left_depth, right_depth) + 1\n",
    "    \n",
    "    def isBalanced(self):\n",
    "        return (self.maxDepth() - self.minDepth()) <= 1"
   ]
  },
  {
   "cell_type": "markdown",
   "metadata": {
    "slideshow": {
     "slide_type": "subslide"
    }
   },
   "source": [
    "<img style=\"float: center;\"  src=\"inorder.PNG\"  width=\"40%\">"
   ]
  },
  {
   "cell_type": "code",
   "execution_count": 9,
   "metadata": {
    "slideshow": {
     "slide_type": "subslide"
    }
   },
   "outputs": [
    {
     "name": "stdout",
     "output_type": "stream",
     "text": [
      "[ 1 ] [ 2 ] [ 3 ] [ 4 ] [ 5 ] [ 6 ] [ 7 ] [ 8 ] \n"
     ]
    },
    {
     "data": {
      "text/plain": [
       "False"
      ]
     },
     "execution_count": 9,
     "metadata": {},
     "output_type": "execute_result"
    }
   ],
   "source": [
    "bst = AdvBST3()\n",
    "numbers = [1,2,3,4,5,6,7,8]\n",
    "for i in numbers:\n",
    "    bst.add(i)\n",
    "bst.print_inorder()\n",
    "bst.isBalanced()\n"
   ]
  },
  {
   "cell_type": "code",
   "execution_count": 10,
   "metadata": {
    "slideshow": {
     "slide_type": "subslide"
    }
   },
   "outputs": [
    {
     "name": "stdout",
     "output_type": "stream",
     "text": [
      "[ 1 ] [ 3 ] [ 5 ] \n"
     ]
    },
    {
     "data": {
      "text/plain": [
       "True"
      ]
     },
     "execution_count": 10,
     "metadata": {},
     "output_type": "execute_result"
    }
   ],
   "source": [
    "bst = AdvBST3()\n",
    "numbers = [3,1,5]\n",
    "for i in numbers:\n",
    "    bst.add(i)\n",
    "bst.print_inorder()\n",
    "bst.isBalanced()"
   ]
  },
  {
   "cell_type": "markdown",
   "metadata": {
    "slideshow": {
     "slide_type": "slide"
    }
   },
   "source": [
    "### Example.4 Floor and Ceiling"
   ]
  },
  {
   "cell_type": "code",
   "execution_count": 11,
   "metadata": {
    "collapsed": true,
    "slideshow": {
     "slide_type": "subslide"
    }
   },
   "outputs": [],
   "source": [
    "class AdvBST4(AdvBST3):    \n",
    "    def floor(self, key):\n",
    "        return self._floor(self._root, key)\n",
    "    \n",
    "    def _floor(self, node, key):\n",
    "        if (not node):\n",
    "            return None\n",
    "        if (key == node._item):\n",
    "            return node\n",
    "        if (key < node._item):\n",
    "            return self._floor(node._left, key)\n",
    "        t = self._floor(node._right, key)\n",
    "        if t:\n",
    "            return t\n",
    "        return node"
   ]
  },
  {
   "cell_type": "markdown",
   "metadata": {
    "slideshow": {
     "slide_type": "subslide"
    }
   },
   "source": [
    "<img style=\"float: center;\"  src=\"bst.PNG\"  width=\"30%\">"
   ]
  },
  {
   "cell_type": "code",
   "execution_count": 12,
   "metadata": {
    "slideshow": {
     "slide_type": "subslide"
    }
   },
   "outputs": [
    {
     "name": "stdout",
     "output_type": "stream",
     "text": [
      "40\n",
      "40\n",
      "10\n",
      "None\n",
      "80\n"
     ]
    }
   ],
   "source": [
    "bst = AdvBST4()\n",
    "numbers = [40,20,70,50,10,60,30,80]\n",
    "for i in numbers:\n",
    "    bst.add(i)\n",
    "print(bst.floor(40)._item)\n",
    "print(bst.floor(44)._item)\n",
    "print(bst.floor(10)._item)\n",
    "print(bst.floor(5))\n",
    "print(bst.floor(100)._item)"
   ]
  },
  {
   "cell_type": "markdown",
   "metadata": {
    "slideshow": {
     "slide_type": "slide"
    }
   },
   "source": [
    "### Example .5 Is Binary Search Tree\n",
    "\n",
    "Check whether a given tree a binary search tree."
   ]
  },
  {
   "cell_type": "code",
   "execution_count": 13,
   "metadata": {
    "collapsed": true,
    "slideshow": {
     "slide_type": "subslide"
    }
   },
   "outputs": [],
   "source": [
    "import sys\n",
    "class AdvBST5(AdvBST4):    \n",
    "    def isBST(self):\n",
    "        return self._isBST(self._root, -sys.maxsize, sys.maxsize)\n",
    "    \n",
    "    def _isBST(self, node, minval, maxval):\n",
    "        if not node:\n",
    "            return True\n",
    "        if (node._item < minval or node._item > maxval):\n",
    "            return False\n",
    "        return self._isBST(node._left, minval, node._item) and self._isBST(node._right, node._item, maxval)"
   ]
  },
  {
   "cell_type": "code",
   "execution_count": 14,
   "metadata": {
    "slideshow": {
     "slide_type": "subslide"
    }
   },
   "outputs": [
    {
     "data": {
      "text/plain": [
       "True"
      ]
     },
     "execution_count": 14,
     "metadata": {},
     "output_type": "execute_result"
    }
   ],
   "source": [
    "bst = AdvBST5()\n",
    "numbers = [1,2,3,4,5,6,7,8]\n",
    "for i in numbers:\n",
    "    bst.add(i)\n",
    "bst.isBST()"
   ]
  },
  {
   "cell_type": "code",
   "execution_count": 15,
   "metadata": {
    "slideshow": {
     "slide_type": "subslide"
    }
   },
   "outputs": [
    {
     "name": "stdout",
     "output_type": "stream",
     "text": [
      "[ 2 ] [ 1 ] [ 3 ] [ 5 ] [ 4 ] \n"
     ]
    },
    {
     "data": {
      "text/plain": [
       "False"
      ]
     },
     "execution_count": 15,
     "metadata": {},
     "output_type": "execute_result"
    }
   ],
   "source": [
    "node1 = Node(1)\n",
    "node2 = Node(2)\n",
    "node3 = Node(3)\n",
    "node4 = Node(4)\n",
    "node5 = Node(5)\n",
    "\n",
    "node3._left = node1\n",
    "node3._right = node5\n",
    "node1._left = node2\n",
    "node5._right = node4\n",
    "bst = AdvBST5(node3)\n",
    "bst.print_inorder()\n",
    "bst.isBST()"
   ]
  },
  {
   "cell_type": "markdown",
   "metadata": {
    "slideshow": {
     "slide_type": "slide"
    }
   },
   "source": [
    "### Example.6  Is Mirror Tree ?"
   ]
  },
  {
   "cell_type": "code",
   "execution_count": 16,
   "metadata": {
    "collapsed": true,
    "slideshow": {
     "slide_type": "subslide"
    }
   },
   "outputs": [],
   "source": [
    "class AdvBST6(AdvBST5):    \n",
    "    def mirror(self):\n",
    "        self._mirror(self._root)\n",
    "    \n",
    "    def _mirror(self, node):\n",
    "        if (node is not None):\n",
    "            self._mirror(node._left)\n",
    "            self._mirror(node._right)\n",
    "            \n",
    "            temp = node._left\n",
    "            node._left = node._right\n",
    "            node._right = temp\n",
    "            "
   ]
  },
  {
   "cell_type": "markdown",
   "metadata": {
    "slideshow": {
     "slide_type": "subslide"
    }
   },
   "source": [
    "<img style=\"float: center;\"  src=\"inorder.PNG\"  width=\"40%\">"
   ]
  },
  {
   "cell_type": "code",
   "execution_count": 17,
   "metadata": {
    "slideshow": {
     "slide_type": "subslide"
    }
   },
   "outputs": [
    {
     "name": "stdout",
     "output_type": "stream",
     "text": [
      "[ 1 ] [ 2 ] [ 3 ] [ 4 ] [ 5 ] [ 6 ] [ 7 ] [ 8 ] [ 9 ] \n"
     ]
    }
   ],
   "source": [
    "bst = AdvBST6()\n",
    "numbers = [6, 4, 8, 7, 9, 5, 1, 3, 2]\n",
    "for i in numbers:\n",
    "    bst.add(i)\n",
    "bst.print_inorder()"
   ]
  },
  {
   "cell_type": "code",
   "execution_count": 18,
   "metadata": {
    "slideshow": {
     "slide_type": "subslide"
    }
   },
   "outputs": [
    {
     "name": "stdout",
     "output_type": "stream",
     "text": [
      "[ 9 ] [ 8 ] [ 7 ] [ 6 ] [ 5 ] [ 4 ] [ 3 ] [ 2 ] [ 1 ] \n"
     ]
    }
   ],
   "source": [
    "bst.mirror()\n",
    "bst.print_inorder()"
   ]
  },
  {
   "cell_type": "markdown",
   "metadata": {
    "slideshow": {
     "slide_type": "slide"
    }
   },
   "source": [
    "### Homework\n",
    "\n",
    "278\tFirst Bad Version    \n",
    "\n",
    "162\tFind Peak Element  \n",
    "\n",
    "153\tFind Minimum in Rotated Sorted Array\n",
    "\n",
    "272(optional)\tClosest Binary Search Tree Value II "
   ]
  }
 ],
 "metadata": {
  "celltoolbar": "Slideshow",
  "kernelspec": {
   "display_name": "Python 3",
   "language": "python",
   "name": "python3"
  },
  "language_info": {
   "codemirror_mode": {
    "name": "ipython",
    "version": 3
   },
   "file_extension": ".py",
   "mimetype": "text/x-python",
   "name": "python",
   "nbconvert_exporter": "python",
   "pygments_lexer": "ipython3",
   "version": "3.6.1"
  }
 },
 "nbformat": 4,
 "nbformat_minor": 2
}
